{
 "cells": [
  {
   "cell_type": "markdown",
   "metadata": {},
   "source": [
    "## 실습 2-1-1: XOR 연산 수행하기\n",
    "- XOR 연산을 수행하는 xor() 함수를 작성한다\n",
    "- x,y 두 개의 파라티터를 입력한다\n",
    "- 두 변수를 비교하여 XOR 연산을 수행한 결과를 리턴한다(True 혹은 False)"
   ]
  },
  {
   "cell_type": "code",
   "execution_count": 1,
   "metadata": {
    "collapsed": true
   },
   "outputs": [],
   "source": [
    "def xor(x, y):\n",
    "\tif x == y:\n",
    "\t\treturn False\n",
    "\telse:\n",
    "\t\treturn True"
   ]
  },
  {
   "cell_type": "code",
   "execution_count": 2,
   "metadata": {
    "collapsed": false
   },
   "outputs": [
    {
     "name": "stdout",
     "output_type": "stream",
     "text": [
      "True + True =  False\n",
      "True + False =  True\n",
      "False + True =  True\n",
      "False + False =  False\n"
     ]
    }
   ],
   "source": [
    "print('True + True = ', xor(True, True))\n",
    "print('True + False = ', xor(True, False))\n",
    "print('False + True = ', xor(False, True))\n",
    "print('False + False = ', xor(False, False))"
   ]
  },
  {
   "cell_type": "markdown",
   "metadata": {},
   "source": [
    "## 실습2-1-2. 리스트 혹은 튜플 내의 원소 찾기(search)\n",
    "- 리스트(튜플) 내에 특정 원소가 들어 있으면 그 인덱스(index)를 반환하고, 그렇지 않으면 False를 반환하는 함수 search_element()를 작성한다\n",
    "- 리스트(튜플)을 나타내는 파라미터 l과 원소를 나타내는 파라미터 e를 입력한다\n",
    "- 결과를 정수 혹은 불린으로 리턴한다(index of False)"
   ]
  },
  {
   "cell_type": "code",
   "execution_count": 3,
   "metadata": {
    "collapsed": true
   },
   "outputs": [],
   "source": [
    "def search_element(l, e):\n",
    "\tif e in l:\n",
    "\t\treturn l.index(e)\n",
    "\telse:\n",
    "\t\treturn False"
   ]
  },
  {
   "cell_type": "code",
   "execution_count": 4,
   "metadata": {
    "collapsed": true
   },
   "outputs": [],
   "source": [
    "l = [1,2,3]\n",
    "e1 = 2\n",
    "e2 = 10"
   ]
  },
  {
   "cell_type": "code",
   "execution_count": 5,
   "metadata": {
    "collapsed": false
   },
   "outputs": [
    {
     "name": "stdout",
     "output_type": "stream",
     "text": [
      "1\n",
      "False\n"
     ]
    }
   ],
   "source": [
    "print(search_element(l, e1))\n",
    "print(search_element(l, e2))"
   ]
  },
  {
   "cell_type": "markdown",
   "metadata": {},
   "source": [
    "## 실습 2-1-3. 직사각형 확장하기\n",
    "- 직사각형의 확장한 후, 가로 길이, 세로 길이, 그리고 원래 넓이에서 확장한 후의 넓이를 나눈 값(ratio)를 차례로 출력하는 함수 area_expand()를 작성한다\n",
    "- 직사각형의 가로의 길이를 나타내는 파라미터 w와 원소를 나타내는 파라미터 l을 입력한다\n",
    "- 가로의 길이는 5 증가시키고, 세로의 길이는 2배로 증가시킨다"
   ]
  },
  {
   "cell_type": "code",
   "execution_count": 6,
   "metadata": {
    "collapsed": true
   },
   "outputs": [],
   "source": [
    "def area_expand(w, l):\n",
    "\tarea_original = w * l\n",
    "\tw = w + 5\n",
    "\tl = l * 2\n",
    "\tarea_expanded = w * l\n",
    "\tprint('Width = ', w)\n",
    "\tprint('Length = ', l)\n",
    "\tprint('Area Ratio = ', area_original/area_expanded)"
   ]
  },
  {
   "cell_type": "code",
   "execution_count": 8,
   "metadata": {
    "collapsed": false
   },
   "outputs": [
    {
     "name": "stdout",
     "output_type": "stream",
     "text": [
      "Width =  10\n",
      "Length =  20\n",
      "Area Ratio =  0.25\n"
     ]
    }
   ],
   "source": [
    "area_expand(5, 10)"
   ]
  },
  {
   "cell_type": "markdown",
   "metadata": {},
   "source": [
    "## 실습 2-1-4. 정수의 합과 평균 계산하기\n",
    "- 정수 5개를 입력받아 그 합과 평균을 반환하는 calculator() 함수를 작성한다\n",
    "- 정수의 합과 평균을 (합, 평균) 튜플로 반환한다. 평균은 소수부분을 버림하고 정수만 출력한다\n",
    "- 정수 시퀀스 중 0이 입력되면 0 전까지 입력된 합과 평균을 구한다\n",
    "\n",
    "*if-else 문을 활용한다"
   ]
  },
  {
   "cell_type": "code",
   "execution_count": 9,
   "metadata": {
    "collapsed": true
   },
   "outputs": [],
   "source": [
    "def calculator(i1, i2, i3, i4, i5):\n",
    "\tl = [i1, i2, i3, i4, i5]\n",
    "\tsum = 0\n",
    "\tidx = 0\n",
    "\tfor i in l:\n",
    "\t\tif i != 0:\n",
    "\t\t\tsum += i\n",
    "\t\t\tidx += 1\n",
    "\t\telse:\n",
    "\t\t\tbreak\n",
    "\treturn (sum, int(sum/idx))"
   ]
  },
  {
   "cell_type": "code",
   "execution_count": 10,
   "metadata": {
    "collapsed": false
   },
   "outputs": [
    {
     "name": "stdout",
     "output_type": "stream",
     "text": [
      "(15, 3)\n",
      "(3, 1)\n"
     ]
    }
   ],
   "source": [
    "print(calculator(1,2,3,4,5))\n",
    "print(calculator(1,2,0,4,5))"
   ]
  },
  {
   "cell_type": "markdown",
   "metadata": {},
   "source": [
    "## 실습 2-1-5. 문자열 검색하기\n",
    "- 단어(혹은 문장)과 문자 하나를 입력 받아 단어에서 입력 받은 문자와 같은 문자를 찾아서 그 위치(인덱스)를 반환하는 함수 search_text()를 작성한다\n",
    "- 두 개의 파라미터(단어와 문자)를 인풋으로 받아들인다\n",
    "- 문자가 단어 내에 있을 경우 그 인덱스를, 없을 경우 False를 반환한다"
   ]
  },
  {
   "cell_type": "code",
   "execution_count": 13,
   "metadata": {
    "collapsed": true
   },
   "outputs": [],
   "source": [
    "def search_text(word, char):\n",
    "    if char in word:\n",
    "        return word.index(char)\n",
    "    return False"
   ]
  },
  {
   "cell_type": "code",
   "execution_count": 16,
   "metadata": {
    "collapsed": false
   },
   "outputs": [
    {
     "name": "stdout",
     "output_type": "stream",
     "text": [
      "1\n",
      "3\n",
      "False\n",
      "2\n"
     ]
    }
   ],
   "source": [
    "print(search_text('name', 'a'))\n",
    "print(search_text('name', 'e'))\n",
    "print(search_text('jane', 'p'))\n",
    "print(search_text('jane', 'n'))"
   ]
  },
  {
   "cell_type": "markdown",
   "metadata": {},
   "source": [
    "## 실습 2-1-6. 문자열 뒤집기\n",
    "- 문자열 5개를 입력 받아 만약 문자열의 길이가 홀수면 거꾸로 뒤집어 출력하는 함수 reverse_text()를 작성한다\n",
    "- 문자열의 길이가 짝수이면 그때로 출력한다\n",
    "- 거꾸로 뒤집은 횟수(즉, 홀수 길이 문자열의 수)를 리턴한다"
   ]
  },
  {
   "cell_type": "code",
   "execution_count": 19,
   "metadata": {
    "collapsed": true
   },
   "outputs": [],
   "source": [
    "def reverse_text(s1, s2, s3, s4, s5):\n",
    "    c = 0\n",
    "    ss = [s1, s2, s3, s4, s5]\n",
    "    for s in ss:\n",
    "        if len(s)%2 == 1:\n",
    "            print(s[::-1])\n",
    "            c += 1\n",
    "        else:\n",
    "            print(s)\n",
    "    return c"
   ]
  },
  {
   "cell_type": "code",
   "execution_count": 20,
   "metadata": {
    "collapsed": false
   },
   "outputs": [
    {
     "name": "stdout",
     "output_type": "stream",
     "text": [
      "regit\n",
      "lion\n",
      "bear\n",
      "ekans\n",
      "drapoel\n",
      "3\n"
     ]
    }
   ],
   "source": [
    "print(reverse_text('tiger','lion','bear','snake','leopard'))"
   ]
  },
  {
   "cell_type": "markdown",
   "metadata": {},
   "source": [
    "## 실습 2-1-7. 모음 개수 계산하기\n",
    "- 영어 단어/문장 문자열을 입력 받아 문자열 내에 속한 모음 알파벳(a,e,I,o,u)의 개수를 출력하는 vowel() 함수를 작성한다"
   ]
  },
  {
   "cell_type": "code",
   "execution_count": 29,
   "metadata": {
    "collapsed": true
   },
   "outputs": [],
   "source": [
    "def vowel(s):\n",
    "    vowels = ['a', 'e', 'i', 'o', 'u']\n",
    "    s = list(s)\n",
    "    c = 0\n",
    "    for alphabet in s:\n",
    "        if alphabet in vowels:\n",
    "            c += 1\n",
    "    return c"
   ]
  },
  {
   "cell_type": "code",
   "execution_count": 30,
   "metadata": {
    "collapsed": false
   },
   "outputs": [
    {
     "name": "stdout",
     "output_type": "stream",
     "text": [
      "2\n",
      "6\n"
     ]
    }
   ],
   "source": [
    "print(vowel('apples'))\n",
    "print(vowel('Her name is Jane'))"
   ]
  },
  {
   "cell_type": "markdown",
   "metadata": {},
   "source": [
    "## 실습 2-1-8. 점수 정렬하기\n",
    "- 5명의 점수(0점 이상 100점 이하)를 받아 가장 낮은 점수부터 가장 높은 점수까지 차례대로 출력하는 함수 sort_score()를 작성한다"
   ]
  },
  {
   "cell_type": "code",
   "execution_count": 31,
   "metadata": {
    "collapsed": true
   },
   "outputs": [],
   "source": [
    "def sort_score(s1, s2, s3, s4, s5):\n",
    "    scores = [s1, s2 , s3 , s4, s5]\n",
    "    scores.sort()\n",
    "    for s in scores:\n",
    "        print(s)"
   ]
  },
  {
   "cell_type": "code",
   "execution_count": 33,
   "metadata": {
    "collapsed": false
   },
   "outputs": [
    {
     "name": "stdout",
     "output_type": "stream",
     "text": [
      "1\n",
      "2\n",
      "3\n",
      "4\n",
      "5\n"
     ]
    }
   ],
   "source": [
    "sort_score(5,2,3,1,4)"
   ]
  },
  {
   "cell_type": "markdown",
   "metadata": {
    "collapsed": true
   },
   "source": [
    "## 실습 2-1-9. 2차원 리스트 변경하기\n",
    "- 알파벳 대문자(A~O)로 이루어진 3행 5열의 2차원 리스트를 생성하고 각 행을 소문자로 바꾸어 출력해 본다\n",
    "- 행 별로 한 줄에 출력되도록 한다\n",
    "\n",
    "* (3, 2) 크기의 2차원 리스트를 정의한다"
   ]
  },
  {
   "cell_type": "code",
   "execution_count": 7,
   "metadata": {
    "collapsed": false
   },
   "outputs": [
    {
     "name": "stdout",
     "output_type": "stream",
     "text": [
      "a b c d e \n",
      "\n",
      "f g h i j \n",
      "\n",
      "k l m n o \n",
      "\n"
     ]
    }
   ],
   "source": [
    "l = [['A', 'B', 'C', 'D', 'E'], ['F', 'G', 'H', 'I', 'J'], ['K', 'L', 'M', 'N', 'O']]\n",
    "for row in l:\n",
    "    for column in row:\n",
    "        print(column.lower(), end = ' ')\n",
    "    print('\\n')"
   ]
  },
  {
   "cell_type": "markdown",
   "metadata": {},
   "source": [
    "## 실습 2-1-10. 딕셔너리의 요소값을 통해 키 필터링하기\n",
    "- 아래 직원들 중 연봉이 50000이상인 직원들의 이름을 딕셔너리를 활용해 출력해 본다\n",
    "- 연봉정보\n",
    " 1) John: 30000\n",
    " 2) Jane: 50000\n",
    " 3) Paul: 45000\n",
    " 4) Elizabeth: 70000\n",
    " 5) Seth: 10000"
   ]
  },
  {
   "cell_type": "code",
   "execution_count": 10,
   "metadata": {
    "collapsed": false
   },
   "outputs": [
    {
     "name": "stdout",
     "output_type": "stream",
     "text": [
      "Jane's salary is:  50000\n",
      "Elizabeth's salary is:  70000\n"
     ]
    }
   ],
   "source": [
    "salary = {'John': 30000, 'Jane': 50000, 'Paul': 45000, 'Elizabeth': 70000, 'Seth': 10000}\n",
    "keys = salary.keys()\n",
    "for key in keys:\n",
    "    if salary[key] >= 50000:\n",
    "        print('{}\\'s salary is: '.format(key), salary[key])"
   ]
  },
  {
   "cell_type": "markdown",
   "metadata": {},
   "source": [
    "## 실습 2-1-11. 구구단 (1)\n",
    "- for문을 활용해 1단부터 9단까지의 구구단을 출력해 본다\n",
    "- 한 줄에 한 단 씩 출력한다"
   ]
  },
  {
   "cell_type": "code",
   "execution_count": 17,
   "metadata": {
    "collapsed": false
   },
   "outputs": [
    {
     "name": "stdout",
     "output_type": "stream",
     "text": [
      "1 * 1 = 1  1 * 2 = 2  1 * 3 = 3  1 * 4 = 4  1 * 5 = 5  1 * 6 = 6  1 * 7 = 7  1 * 8 = 8  1 * 9 = 9\n",
      "2 * 1 = 2  2 * 2 = 4  2 * 3 = 6  2 * 4 = 8  2 * 5 = 10  2 * 6 = 12  2 * 7 = 14  2 * 8 = 16  2 * 9 = 18\n",
      "3 * 1 = 3  3 * 2 = 6  3 * 3 = 9  3 * 4 = 12  3 * 5 = 15  3 * 6 = 18  3 * 7 = 21  3 * 8 = 24  3 * 9 = 27\n",
      "4 * 1 = 4  4 * 2 = 8  4 * 3 = 12  4 * 4 = 16  4 * 5 = 20  4 * 6 = 24  4 * 7 = 28  4 * 8 = 32  4 * 9 = 36\n",
      "5 * 1 = 5  5 * 2 = 10  5 * 3 = 15  5 * 4 = 20  5 * 5 = 25  5 * 6 = 30  5 * 7 = 35  5 * 8 = 40  5 * 9 = 45\n",
      "6 * 1 = 6  6 * 2 = 12  6 * 3 = 18  6 * 4 = 24  6 * 5 = 30  6 * 6 = 36  6 * 7 = 42  6 * 8 = 48  6 * 9 = 54\n",
      "7 * 1 = 7  7 * 2 = 14  7 * 3 = 21  7 * 4 = 28  7 * 5 = 35  7 * 6 = 42  7 * 7 = 49  7 * 8 = 56  7 * 9 = 63\n",
      "8 * 1 = 8  8 * 2 = 16  8 * 3 = 24  8 * 4 = 32  8 * 5 = 40  8 * 6 = 48  8 * 7 = 56  8 * 8 = 64  8 * 9 = 72\n",
      "9 * 1 = 9  9 * 2 = 18  9 * 3 = 27  9 * 4 = 36  9 * 5 = 45  9 * 6 = 54  9 * 7 = 63  9 * 8 = 72  9 * 9 = 81\n"
     ]
    }
   ],
   "source": [
    "for i in range(1, 10):\n",
    "    for j in range(1, 10):\n",
    "        if j != 9:\n",
    "            print('{} * {} ='.format(i, j), i*j, end = '  ')\n",
    "        else:\n",
    "            print('{} * {} ='.format(i, j), i*j)"
   ]
  },
  {
   "cell_type": "markdown",
   "metadata": {},
   "source": [
    "## 실습 2-1-12. 구구단 (2)\n",
    "- while문을 활용해 1단부터 9단까지의 구구단을 출력해 본다\n",
    "- 한 줄에 한 단 씩 출력한다"
   ]
  },
  {
   "cell_type": "code",
   "execution_count": 18,
   "metadata": {
    "collapsed": false
   },
   "outputs": [
    {
     "name": "stdout",
     "output_type": "stream",
     "text": [
      "1 * 1 = 1  1 * 2 = 2  1 * 3 = 3  1 * 4 = 4  1 * 5 = 5  1 * 6 = 6  1 * 7 = 7  1 * 8 = 8  1 * 9 = 9\n",
      "2 * 1 = 2  2 * 2 = 4  2 * 3 = 6  2 * 4 = 8  2 * 5 = 10  2 * 6 = 12  2 * 7 = 14  2 * 8 = 16  2 * 9 = 18\n",
      "3 * 1 = 3  3 * 2 = 6  3 * 3 = 9  3 * 4 = 12  3 * 5 = 15  3 * 6 = 18  3 * 7 = 21  3 * 8 = 24  3 * 9 = 27\n",
      "4 * 1 = 4  4 * 2 = 8  4 * 3 = 12  4 * 4 = 16  4 * 5 = 20  4 * 6 = 24  4 * 7 = 28  4 * 8 = 32  4 * 9 = 36\n",
      "5 * 1 = 5  5 * 2 = 10  5 * 3 = 15  5 * 4 = 20  5 * 5 = 25  5 * 6 = 30  5 * 7 = 35  5 * 8 = 40  5 * 9 = 45\n",
      "6 * 1 = 6  6 * 2 = 12  6 * 3 = 18  6 * 4 = 24  6 * 5 = 30  6 * 6 = 36  6 * 7 = 42  6 * 8 = 48  6 * 9 = 54\n",
      "7 * 1 = 7  7 * 2 = 14  7 * 3 = 21  7 * 4 = 28  7 * 5 = 35  7 * 6 = 42  7 * 7 = 49  7 * 8 = 56  7 * 9 = 63\n",
      "8 * 1 = 8  8 * 2 = 16  8 * 3 = 24  8 * 4 = 32  8 * 5 = 40  8 * 6 = 48  8 * 7 = 56  8 * 8 = 64  8 * 9 = 72\n",
      "9 * 1 = 9  9 * 2 = 18  9 * 3 = 27  9 * 4 = 36  9 * 5 = 45  9 * 6 = 54  9 * 7 = 63  9 * 8 = 72  9 * 9 = 81\n"
     ]
    }
   ],
   "source": [
    "i = 1\n",
    "while i < 10:\n",
    "    j = 1\n",
    "    while j < 10:\n",
    "        if j != 9:\n",
    "            print('{} * {} ='.format(i, j), i*j, end = '  ')\n",
    "        else:\n",
    "            print('{} * {} ='.format(i, j), i*j)\n",
    "        j += 1\n",
    "    i += 1"
   ]
  },
  {
   "cell_type": "markdown",
   "metadata": {},
   "source": [
    "## 실습 2-1-13. 피보나치 수열\n",
    "- 0부터 시작하는 피보나치 수열의 열 번째 시퀀스 까지의 원소를 출력한다\n",
    "- F(n) = F(n-1) + F(n-2) with F(0) = 0 and F(1) = 1\n",
    "- while문을 활용한다\n",
    "- 재귀식을 사용할 수도 있다!"
   ]
  },
  {
   "cell_type": "code",
   "execution_count": 22,
   "metadata": {
    "collapsed": true
   },
   "outputs": [],
   "source": [
    "def fibonacci(n):\n",
    "    i = 0\n",
    "    a, b = 0, 1\n",
    "    while i < n:            \n",
    "        print(a)\n",
    "        a, b = b, a + b\n",
    "        i += 1"
   ]
  },
  {
   "cell_type": "code",
   "execution_count": 23,
   "metadata": {
    "collapsed": false
   },
   "outputs": [
    {
     "name": "stdout",
     "output_type": "stream",
     "text": [
      "0\n",
      "1\n",
      "1\n",
      "2\n",
      "3\n",
      "5\n",
      "8\n",
      "13\n",
      "21\n",
      "34\n"
     ]
    }
   ],
   "source": [
    "fibonacci(10)"
   ]
  },
  {
   "cell_type": "markdown",
   "metadata": {},
   "source": [
    "## 실습 2-1-14. CSV 형식의 데이터 구조화하기\n",
    "- enrollments.csv 파일을 읽어 각 열의 데이터가 하나의 딕셔너리가 되어 전체 데이터를 딕셔너리로 이루어진 리스트로 구조화한다\n",
    "- 첫 번째 열의 헤더(header)는 제외한다"
   ]
  },
  {
   "cell_type": "code",
   "execution_count": 5,
   "metadata": {
    "collapsed": false
   },
   "outputs": [],
   "source": [
    "data = []\n",
    "with open('enrollments.csv', 'r') as f:\n",
    "    lines = f.readlines()[1:]\n",
    "    for line in lines:\n",
    "        line = line.split(',')\n",
    "        dic = {'account_key': line[0], 'status': line[1], 'join_data': line[2], 'cancel_data': line[3], 'days_to_cancel': line[4], 'is_udacity': line[5], 'is_canceled': line[6]}\n",
    "        data.append(dic)\n",
    "    f.close()"
   ]
  },
  {
   "cell_type": "code",
   "execution_count": 6,
   "metadata": {
    "collapsed": false
   },
   "outputs": [
    {
     "data": {
      "text/plain": [
       "{'account_key': '448',\n",
       " 'cancel_data': '2015-01-14',\n",
       " 'days_to_cancel': '65',\n",
       " 'is_canceled': 'True\\n',\n",
       " 'is_udacity': 'True',\n",
       " 'join_data': '2014-11-10',\n",
       " 'status': 'canceled'}"
      ]
     },
     "execution_count": 6,
     "metadata": {},
     "output_type": "execute_result"
    }
   ],
   "source": [
    "data[0]"
   ]
  },
  {
   "cell_type": "code",
   "execution_count": 7,
   "metadata": {
    "collapsed": false
   },
   "outputs": [
    {
     "data": {
      "text/plain": [
       "{'account_key': '448',\n",
       " 'cancel_data': '2014-11-10',\n",
       " 'days_to_cancel': '5',\n",
       " 'is_canceled': 'True\\n',\n",
       " 'is_udacity': 'True',\n",
       " 'join_data': '2014-11-05',\n",
       " 'status': 'canceled'}"
      ]
     },
     "execution_count": 7,
     "metadata": {},
     "output_type": "execute_result"
    }
   ],
   "source": [
    "data[1]"
   ]
  },
  {
   "cell_type": "code",
   "execution_count": null,
   "metadata": {
    "collapsed": true
   },
   "outputs": [],
   "source": []
  }
 ],
 "metadata": {
  "kernelspec": {
   "display_name": "Python 3",
   "language": "python",
   "name": "python3"
  },
  "language_info": {
   "codemirror_mode": {
    "name": "ipython",
    "version": 3
   },
   "file_extension": ".py",
   "mimetype": "text/x-python",
   "name": "python",
   "nbconvert_exporter": "python",
   "pygments_lexer": "ipython3",
   "version": "3.6.0"
  }
 },
 "nbformat": 4,
 "nbformat_minor": 0
}
